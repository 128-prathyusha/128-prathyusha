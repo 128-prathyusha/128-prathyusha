{
  "nbformat": 4,
  "nbformat_minor": 0,
  "metadata": {
    "colab": {
      "name": "21-04-22.ipynb",
      "provenance": [],
      "authorship_tag": "ABX9TyOapGzXzX3HBZHRWnRA/wqI",
      "include_colab_link": true
    },
    "kernelspec": {
      "name": "python3",
      "display_name": "Python 3"
    },
    "language_info": {
      "name": "python"
    }
  },
  "cells": [
    {
      "cell_type": "markdown",
      "metadata": {
        "id": "view-in-github",
        "colab_type": "text"
      },
      "source": [
        "<a href=\"https://colab.research.google.com/github/128-prathyusha/128-prathyusha/blob/main/21_04_22.ipynb\" target=\"_parent\"><img src=\"https://colab.research.google.com/assets/colab-badge.svg\" alt=\"Open In Colab\"/></a>"
      ]
    },
    {
      "cell_type": "code",
      "execution_count": 1,
      "metadata": {
        "id": "pLz1Obl73a9E"
      },
      "outputs": [],
      "source": [
        "def colour():\n",
        "  lists=['red','green','white','black','pink','yellow']\n",
        "  lists.pop(5)\n",
        "  lists.pop(4)\n",
        "  lists.pop(0)\n",
        "  print(lists)\n",
        "  colour()"
      ]
    },
    {
      "cell_type": "markdown",
      "source": [
        "Program to get the difference between the two lists"
      ],
      "metadata": {
        "id": "jEF-1Kn-3zCt"
      }
    },
    {
      "cell_type": "code",
      "source": [
        "def diff():\n",
        "  l1=[12 ,21 ,45 ,76 ,90, 87, 98]\n",
        "  l2={76,78,54}\n",
        "  l3= set(l1)\n",
        "  l4= set(l2)\n",
        "  l15= l3.difference(l4)\n",
        "  l16=list(l15)\n",
        "  print(l16)\n",
        "diff()"
      ],
      "metadata": {
        "colab": {
          "base_uri": "https://localhost:8080/"
        },
        "id": "1A2S_R9A3uSw",
        "outputId": "39564eef-e5fd-4a8d-b1d1-460af651571e"
      },
      "execution_count": 2,
      "outputs": [
        {
          "output_type": "stream",
          "name": "stdout",
          "text": [
            "[98, 12, 45, 21, 87, 90]\n"
          ]
        }
      ]
    },
    {
      "cell_type": "markdown",
      "source": [
        "Program to find the second smallest number and second largest number in a list."
      ],
      "metadata": {
        "id": "IYHDaL1q4CYP"
      }
    },
    {
      "cell_type": "code",
      "source": [
        "def find_len():\n",
        "  lists=[45,78,90,678,456,5678,9876]\n",
        "  length=len(lists)\n",
        "  lists.sort()\n",
        "  print(\"second largest number is :\", lists[length-2])\n",
        "  print(\"second smallest number is :\",lists[1])\n",
        "\n",
        "find_len()"
      ],
      "metadata": {
        "colab": {
          "base_uri": "https://localhost:8080/"
        },
        "id": "enRK0LPZ34ag",
        "outputId": "e59c9e02-79dc-44c9-d39a-d1b7ed6134fc"
      },
      "execution_count": 3,
      "outputs": [
        {
          "output_type": "stream",
          "name": "stdout",
          "text": [
            "second largest number is : 5678\n",
            "second smallest number is : 78\n"
          ]
        }
      ]
    },
    {
      "cell_type": "markdown",
      "source": [
        "Given a list of numbers of list, write a Python program to create a list of tuples having first element as the number and second element as the square of the number"
      ],
      "metadata": {
        "id": "a0CiM8q44MCu"
      }
    },
    {
      "cell_type": "code",
      "source": [
        "def sq_in_list():\n",
        "  lists = [1,5,8,9]\n",
        "  b= len(list1)\n",
        "  for i in  range(a,b):\n",
        "    c=list[i]\n",
        "    a=pow(c,2)\n",
        "    res = (c,a)\n",
        "    print(res)\n",
        "sq_in_list"
      ],
      "metadata": {
        "colab": {
          "base_uri": "https://localhost:8080/"
        },
        "id": "jCv6lRdW4Hy3",
        "outputId": "b97d378d-8bc4-4cea-8015-dde5ef3b5271"
      },
      "execution_count": 10,
      "outputs": [
        {
          "output_type": "execute_result",
          "data": {
            "text/plain": [
              "<function __main__.sq_in_list>"
            ]
          },
          "metadata": {},
          "execution_count": 10
        }
      ]
    },
    {
      "cell_type": "markdown",
      "source": [
        "Given list of tuples, remove all the tuples with length K.\n",
        "Input : test_list = [(4, 5), (4, ), (8, 6, 7), (1, ), (3, 4, 6, 7)], K = 2\n",
        "Output : [(4, ), (8, 6, 7), (1, ), (3, 4, 6, 7)]\n",
        "Explanation : (4, 5) of len = 2 is removed"
      ],
      "metadata": {
        "id": "f6mkqZVS5YkN"
      }
    },
    {
      "cell_type": "code",
      "source": [
        "def len_of_tuples():\n",
        " test_list = [(5,8),(6,8),(3,2),(1,),(4,45,56)]\n",
        "\n",
        " print(\"the orginal list:\" + str(test_list))\n",
        "\n",
        " k = 2\n",
        "  res = [ele for ele in test_list if len(ele) != k]\n",
        "\n",
        " print(\"filtered list :\"+ str(res))\n",
        "lens_of_tuples"
      ],
      "metadata": {
        "colab": {
          "base_uri": "https://localhost:8080/",
          "height": 130
        },
        "id": "g8ZkzMx75Ta5",
        "outputId": "68e45f0c-09a0-4b45-c7aa-6b26b3339d79"
      },
      "execution_count": 17,
      "outputs": [
        {
          "output_type": "error",
          "ename": "IndentationError",
          "evalue": "ignored",
          "traceback": [
            "\u001b[0;36m  File \u001b[0;32m\"<ipython-input-17-453376901297>\"\u001b[0;36m, line \u001b[0;32m7\u001b[0m\n\u001b[0;31m    res = [ele for ele in test_list if len(ele) != k]\u001b[0m\n\u001b[0m    ^\u001b[0m\n\u001b[0;31mIndentationError\u001b[0m\u001b[0;31m:\u001b[0m unexpected indent\n"
          ]
        }
      ]
    },
    {
      "cell_type": "markdown",
      "source": [
        "Program to generate and print a dictionary that contains a number (between 1\n",
        "and n) in the form (x, x*x).\n",
        "Sample Input: (n=5) :\n",
        "Expected Output : {1: 1, 2: 4, 3: 9, 4: 16, 5: 25}\n"
      ],
      "metadata": {
        "id": "wUGcQ5LR-S01"
      }
    },
    {
      "cell_type": "code",
      "source": [
        "def sq():\n",
        "  n=int(input(\"enter a number\"))\n",
        "  d = dict()\n",
        "  for x in range(1,n+1):\n",
        "     d[x]=x*xprint(d)\n",
        "     sq()"
      ],
      "metadata": {
        "id": "cJCWclEU-NgA"
      },
      "execution_count": 18,
      "outputs": []
    }
  ]
}