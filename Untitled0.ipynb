{
  "nbformat": 4,
  "nbformat_minor": 0,
  "metadata": {
    "colab": {
      "name": "Untitled0.ipynb",
      "provenance": [],
      "authorship_tag": "ABX9TyMZGfvb9QXmN0ilB0sS/15w",
      "include_colab_link": true
    },
    "kernelspec": {
      "name": "python3",
      "display_name": "Python 3"
    },
    "language_info": {
      "name": "python"
    }
  },
  "cells": [
    {
      "cell_type": "markdown",
      "metadata": {
        "id": "view-in-github",
        "colab_type": "text"
      },
      "source": [
        "<a href=\"https://colab.research.google.com/github/128-prathyusha/128-prathyusha/blob/main/Untitled0.ipynb\" target=\"_parent\"><img src=\"https://colab.research.google.com/assets/colab-badge.svg\" alt=\"Open In Colab\"/></a>"
      ]
    },
    {
      "cell_type": "markdown",
      "source": [
        "heading"
      ],
      "metadata": {
        "id": "eUPjlM2_ZUUx"
      }
    },
    {
      "cell_type": "code",
      "execution_count": 6,
      "metadata": {
        "colab": {
          "base_uri": "https://localhost:8080/"
        },
        "id": "Iw1d2dssYRDV",
        "outputId": "70da1802-0269-4c36-ec63-1ced60e6eb89"
      },
      "outputs": [
        {
          "output_type": "stream",
          "name": "stdout",
          "text": [
            "i\n",
            "like\n",
            "phothography\n"
          ]
        }
      ],
      "source": [
        "def kpv():\n",
        "    print(\"i\")\n",
        "    print(\"like\")\n",
        "    print(\"phothography\")\n",
        "\n",
        "\n",
        "kpv()"
      ]
    },
    {
      "cell_type": "markdown",
      "source": [
        ""
      ],
      "metadata": {
        "id": "FzcnptjJZPOL"
      }
    },
    {
      "cell_type": "code",
      "source": [
        "def pawankalyan(fname,lname):\n",
        "   print(fname+\" \"+lname)\n",
        "pawankalyan(\"bheemla\",\"nayak\")"
      ],
      "metadata": {
        "colab": {
          "base_uri": "https://localhost:8080/"
        },
        "id": "hkl6GCkbaZ8j",
        "outputId": "bf347bef-f8cf-488d-a14c-8997d9a2d965"
      },
      "execution_count": 14,
      "outputs": [
        {
          "output_type": "stream",
          "name": "stdout",
          "text": [
            "bheemla nayak\n"
          ]
        }
      ]
    },
    {
      "cell_type": "code",
      "source": [
        "def vote(age,gender,name):\n",
        "    print(age,gender,name)\n",
        "vote(18,\"male\",\"prathyu\")"
      ],
      "metadata": {
        "colab": {
          "base_uri": "https://localhost:8080/"
        },
        "id": "N_t8NtllcXAL",
        "outputId": "8cb8c2d3-04b2-447f-cfdc-b67d12d7908d"
      },
      "execution_count": 19,
      "outputs": [
        {
          "output_type": "stream",
          "name": "stdout",
          "text": [
            "18 male prathyu\n"
          ]
        }
      ]
    },
    {
      "cell_type": "code",
      "source": [
        "def vote(age,gender,name)\n",
        "    print(age=,\"age\",gender=,\"gender\",name=,\"name\")\n",
        "    x=prathyu age:age>18\n",
        "print(\"elegeble \")\n",
        "   vote(age=int(input()),gender=input(),name=input())\n",
        "    \n"
      ],
      "metadata": {
        "colab": {
          "base_uri": "https://localhost:8080/",
          "height": 130
        },
        "id": "LaxgxDZkdPIr",
        "outputId": "42f6104b-eb97-443f-c7ce-2e51d9a32382"
      },
      "execution_count": 31,
      "outputs": [
        {
          "output_type": "error",
          "ename": "SyntaxError",
          "evalue": "ignored",
          "traceback": [
            "\u001b[0;36m  File \u001b[0;32m\"<ipython-input-31-e54643eff8d2>\"\u001b[0;36m, line \u001b[0;32m1\u001b[0m\n\u001b[0;31m    def vote(age,gender,name)\u001b[0m\n\u001b[0m                             ^\u001b[0m\n\u001b[0;31mSyntaxError\u001b[0m\u001b[0;31m:\u001b[0m invalid syntax\n"
          ]
        }
      ]
    },
    {
      "cell_type": "markdown",
      "source": [
        "#pyton build function"
      ],
      "metadata": {
        "id": "KKbOLMv3lPER"
      }
    },
    {
      "cell_type": "code",
      "source": [
        "a=25.5\n",
        "b=abs"
      ],
      "metadata": {
        "id": "8Mtnx7KRlF_T"
      },
      "execution_count": null,
      "outputs": []
    },
    {
      "cell_type": "markdown",
      "source": [
        ""
      ],
      "metadata": {
        "id": "BqcZcExWZPq5"
      }
    },
    {
      "cell_type": "code",
      "source": [
        ""
      ],
      "metadata": {
        "id": "df8rzAzaZQeC"
      },
      "execution_count": null,
      "outputs": []
    }
  ]
}